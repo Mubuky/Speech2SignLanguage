{
 "cells": [
  {
   "cell_type": "code",
   "execution_count": 1,
   "id": "3a8a7414-a791-43cb-993e-39362aae37fd",
   "metadata": {},
   "outputs": [],
   "source": [
    "import os\n",
    "import json\n",
    "import pandas as pd\n",
    "import concurrent.futures\n",
    "\n",
    "from openai import OpenAI\n",
    "#from tqdm.notebook import tqdm\n",
    "from tqdm.asyncio import tqdm"
   ]
  },
  {
   "cell_type": "code",
   "execution_count": 2,
   "id": "ef0ff1e1-f9cc-473e-9ac2-09f5230e4c5f",
   "metadata": {},
   "outputs": [],
   "source": [
    "exec_id = 2 #[0, 1, 2, 3, 4]"
   ]
  },
  {
   "cell_type": "code",
   "execution_count": 3,
   "id": "7ae6d57d-fa8d-41d8-a2b2-75628f12c4e3",
   "metadata": {},
   "outputs": [],
   "source": [
    "data_path = './data/'\n",
    "df = pd.read_csv(data_path + 'train.csv')"
   ]
  },
  {
   "cell_type": "code",
   "execution_count": 4,
   "id": "1cd29f09-0dfb-4170-adfa-f0247ab48f33",
   "metadata": {},
   "outputs": [],
   "source": [
    "labels = list(set(list(df['label'])))"
   ]
  },
  {
   "cell_type": "code",
   "execution_count": 5,
   "id": "727047b6-6b2e-48ec-95d0-78e9c239246f",
   "metadata": {},
   "outputs": [
    {
     "data": {
      "text/plain": [
       "498968"
      ]
     },
     "execution_count": 5,
     "metadata": {},
     "output_type": "execute_result"
    }
   ],
   "source": [
    "len(labels)"
   ]
  },
  {
   "cell_type": "code",
   "execution_count": 6,
   "id": "8f0fa461-454b-483f-9c84-fe32a2292f5c",
   "metadata": {},
   "outputs": [
    {
     "name": "stdout",
     "output_type": "stream",
     "text": [
      "200000 300000\n"
     ]
    }
   ],
   "source": [
    "left = exec_id * 100000\n",
    "if exec_id <= 3:\n",
    "    right = (exec_id + 1) * 100000\n",
    "else:\n",
    "    right = None\n",
    "\n",
    "print(left, right)"
   ]
  },
  {
   "cell_type": "code",
   "execution_count": 7,
   "id": "deaf06bd-a1e6-4f0c-b585-d8a8bd76e53d",
   "metadata": {},
   "outputs": [
    {
     "name": "stdout",
     "output_type": "stream",
     "text": [
      "100000\n"
     ]
    }
   ],
   "source": [
    "labels = labels[left : right]\n",
    "print(len(labels))"
   ]
  },
  {
   "cell_type": "code",
   "execution_count": 8,
   "id": "4bea94d2-56f0-491c-a3b5-154fde2ae001",
   "metadata": {},
   "outputs": [],
   "source": [
    "client = OpenAI(\n",
    "    #base_url = 'https://api.open-proxy.cn/v1',\n",
    "\n",
    "    api_key = os.environ.get(\"OPENAI_API_KEY\", \"\"),\n",
    "    \n",
    "    base_url = 'https://api.xty.app/v1',\n",
    ")"
   ]
  },
  {
   "cell_type": "code",
   "execution_count": null,
   "id": "51b15be7-590f-4f03-8526-a936278e132d",
   "metadata": {},
   "outputs": [
    {
     "name": "stderr",
     "output_type": "stream",
     "text": [
      "  1%|▌                                                                            | 757/100000 [00:16<30:26, 54.34it/s]"
     ]
    }
   ],
   "source": [
    "MODEL = 'gpt-3.5-turbo'\n",
    "#MODEL = 'gpt-4-0125-preview'\n",
    "\n",
    "out_labels = []\n",
    "out_sentences = []\n",
    "\n",
    "def process_label(label):\n",
    "    messages = []\n",
    "    messages.append({'role': 'system', 'content': \"你是一名出色的汉语言专家，下面是一个文本生成任务，这对我的职业生涯很重要，请你认真的完成这个任务。\"})\n",
    "    messages.append({'role': 'system', 'content': \"你只需要完成这个文本生成任务，不需要输出其他的内容。\"})\n",
    "    messages.append({'role': 'system', 'content': \"请为这个由词语组成的句子添加必要的成分和合适的形容词、副词、语气词等形成新的意思相近的句子。\"})\n",
    "    messages.append({'role': 'user', 'content': label})\n",
    "\n",
    "    response = client.chat.completions.create(\n",
    "        model=MODEL,\n",
    "        messages=messages,\n",
    "        temperature=0.5,\n",
    "    )\n",
    "\n",
    "    sentence = response.choices[0].message.content\n",
    "    return label, sentence\n",
    "\n",
    "# 创建一个线程池  \n",
    "with concurrent.futures.ThreadPoolExecutor(max_workers = 100) as executor:  # max_workers表示并发数\n",
    "    pbar = tqdm(total=len(labels))\n",
    "\n",
    "    # 提交任务到线程池，并获取Future对象列表\n",
    "    futures = {executor.submit(process_label, label): label for label in labels}\n",
    "\n",
    "    # 遍历Future对象列表，获取结果  \n",
    "    for future in concurrent.futures.as_completed(futures):\n",
    "        label = futures[future]\n",
    "        try:\n",
    "            processed_label, sentence = future.result()\n",
    "            out_labels.append(processed_label)\n",
    "            out_sentences.append(sentence)\n",
    "            pbar.update(1)\n",
    "        except Exception as exc:\n",
    "            print(f'Generated an exception: {exc}')\n",
    "\n",
    "    pbar.close()"
   ]
  },
  {
   "cell_type": "code",
   "execution_count": null,
   "id": "3e6250c4-d4f4-4799-bd67-29bd4c5d01d5",
   "metadata": {},
   "outputs": [],
   "source": [
    "out_labels[:5]"
   ]
  },
  {
   "cell_type": "code",
   "execution_count": null,
   "id": "ff07282d-ea82-416d-aba1-caaa3a611dd3",
   "metadata": {},
   "outputs": [],
   "source": [
    "out_sentences[:5]"
   ]
  },
  {
   "cell_type": "code",
   "execution_count": null,
   "id": "d1f14b24-d3f1-425c-ac59-7b17e1c03ae2",
   "metadata": {},
   "outputs": [],
   "source": [
    "df_out = pd.DataFrame()\n",
    "df_out['label'] = out_labels\n",
    "df_out['sentence'] = out_sentences"
   ]
  },
  {
   "cell_type": "code",
   "execution_count": null,
   "id": "83f84811-9496-4dd4-8ae4-2877727d006b",
   "metadata": {},
   "outputs": [],
   "source": [
    "df_out.describe()"
   ]
  },
  {
   "cell_type": "code",
   "execution_count": null,
   "id": "67b2155f-76d9-4147-89cf-c21cba974a6f",
   "metadata": {},
   "outputs": [],
   "source": [
    "df_out.to_csv(f\"{data_path}data{exec_id}.csv\", index = False)"
   ]
  },
  {
   "cell_type": "code",
   "execution_count": null,
   "id": "6cfcc4f6-2064-40df-8508-a0ee89aa221a",
   "metadata": {},
   "outputs": [],
   "source": [
    "df_100k = pd.read_csv(data_path + 'data0.csv')"
   ]
  },
  {
   "cell_type": "code",
   "execution_count": null,
   "id": "b50b0670-31d0-4212-bb01-766ead413192",
   "metadata": {},
   "outputs": [],
   "source": [
    "df_100k.describe()"
   ]
  },
  {
   "cell_type": "code",
   "execution_count": null,
   "id": "4781891d-3e20-4b7f-bfb8-9a493ce3c0e6",
   "metadata": {},
   "outputs": [],
   "source": [
    "df_300k = pd.read_csv(data_path + 'data1.csv')"
   ]
  },
  {
   "cell_type": "code",
   "execution_count": null,
   "id": "3849090e-37a4-43b9-b7c1-17ebd1c68ceb",
   "metadata": {},
   "outputs": [],
   "source": [
    "df_300k.describe()"
   ]
  },
  {
   "cell_type": "code",
   "execution_count": null,
   "id": "f30ed548-1620-402e-a120-029d702ef0af",
   "metadata": {},
   "outputs": [],
   "source": [
    "df_new = pd.concat([df_100k, df_300k], axis = 0)"
   ]
  },
  {
   "cell_type": "code",
   "execution_count": null,
   "id": "47667f0d-2cf8-4f09-b868-f4d8d225185c",
   "metadata": {},
   "outputs": [],
   "source": [
    "df_new.describe()"
   ]
  },
  {
   "cell_type": "code",
   "execution_count": null,
   "id": "f5503f4c-c7d5-4065-b490-6bc160178392",
   "metadata": {},
   "outputs": [],
   "source": [
    "df_new = pd.concat([df_new, df_out], axis = 0)"
   ]
  },
  {
   "cell_type": "code",
   "execution_count": null,
   "id": "a30917cc-c594-4350-bc35-979a04c4623e",
   "metadata": {},
   "outputs": [],
   "source": [
    "df_new.describe()"
   ]
  },
  {
   "cell_type": "code",
   "execution_count": null,
   "id": "8c304bc4-1899-4c96-b75b-ffabb953bed4",
   "metadata": {},
   "outputs": [],
   "source": [
    "df_new.to_csv(f\"{data_path}data_500k.csv\", index = False)"
   ]
  }
 ],
 "metadata": {
  "kernelspec": {
   "display_name": "Python 3 (ipykernel)",
   "language": "python",
   "name": "python3"
  },
  "language_info": {
   "codemirror_mode": {
    "name": "ipython",
    "version": 3
   },
   "file_extension": ".py",
   "mimetype": "text/x-python",
   "name": "python",
   "nbconvert_exporter": "python",
   "pygments_lexer": "ipython3",
   "version": "3.12.2"
  }
 },
 "nbformat": 4,
 "nbformat_minor": 5
}
