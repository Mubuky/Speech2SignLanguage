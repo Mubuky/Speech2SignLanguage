{
 "cells": [
  {
   "cell_type": "code",
   "execution_count": 1,
   "id": "3a8a7414-a791-43cb-993e-39362aae37fd",
   "metadata": {},
   "outputs": [],
   "source": [
    "import os\n",
    "import json\n",
    "import pandas as pd\n",
    "import concurrent.futures\n",
    "\n",
    "from openai import OpenAI\n",
    "from tqdm.notebook import tqdm"
   ]
  },
  {
   "cell_type": "code",
   "execution_count": 2,
   "id": "ef0ff1e1-f9cc-473e-9ac2-09f5230e4c5f",
   "metadata": {},
   "outputs": [],
   "source": [
    "exec_id = 0 #[0, 1, 2, 3, 4]"
   ]
  },
  {
   "cell_type": "code",
   "execution_count": 3,
   "id": "7ae6d57d-fa8d-41d8-a2b2-75628f12c4e3",
   "metadata": {},
   "outputs": [],
   "source": [
    "data_path = './data/'\n",
    "df = pd.read_csv(data_path + 'train.csv')"
   ]
  },
  {
   "cell_type": "code",
   "execution_count": 4,
   "id": "1cd29f09-0dfb-4170-adfa-f0247ab48f33",
   "metadata": {},
   "outputs": [],
   "source": [
    "labels = list(set(list(df['label'])))"
   ]
  },
  {
   "cell_type": "code",
   "execution_count": 5,
   "id": "727047b6-6b2e-48ec-95d0-78e9c239246f",
   "metadata": {},
   "outputs": [
    {
     "data": {
      "text/plain": [
       "498968"
      ]
     },
     "execution_count": 5,
     "metadata": {},
     "output_type": "execute_result"
    }
   ],
   "source": [
    "len(labels)"
   ]
  },
  {
   "cell_type": "code",
   "execution_count": 6,
   "id": "8f0fa461-454b-483f-9c84-fe32a2292f5c",
   "metadata": {},
   "outputs": [
    {
     "name": "stdout",
     "output_type": "stream",
     "text": [
      "0 100000\n"
     ]
    }
   ],
   "source": [
    "left = exec_id * 100000\n",
    "if exec_id <= 3:\n",
    "    right = (exec_id + 1) * 100000\n",
    "else:\n",
    "    right = None\n",
    "\n",
    "print(left, right)"
   ]
  },
  {
   "cell_type": "code",
   "execution_count": 7,
   "id": "deaf06bd-a1e6-4f0c-b585-d8a8bd76e53d",
   "metadata": {},
   "outputs": [
    {
     "name": "stdout",
     "output_type": "stream",
     "text": [
      "100000\n"
     ]
    }
   ],
   "source": [
    "labels = labels[left : right]\n",
    "print(len(labels))"
   ]
  },
  {
   "cell_type": "code",
   "execution_count": 8,
   "id": "4bea94d2-56f0-491c-a3b5-154fde2ae001",
   "metadata": {},
   "outputs": [],
   "source": [
    "client = OpenAI(\n",
    "    
    ")"
   ]
  },
  {
   "cell_type": "code",
   "execution_count": 9,
   "id": "51b15be7-590f-4f03-8526-a936278e132d",
   "metadata": {},
   "outputs": [
    {
     "data": {
      "application/vnd.jupyter.widget-view+json": {
       "model_id": "360b007727de4622b268f7eea196726d",
       "version_major": 2,
       "version_minor": 0
      },
      "text/plain": [
       "  0%|          | 0/100000 [00:00<?, ?it/s]"
      ]
     },
     "metadata": {},
     "output_type": "display_data"
    }
   ],
   "source": [
    "MODEL = 'gpt-3.5-turbo'\n",
    "#MODEL = 'gpt-4-0125-preview'\n",
    "\n",
    "out_labels = []\n",
    "out_sentences = []\n",
    "\n",
    "def process_label(label):\n",
    "    messages = []\n",
    "    messages.append({'role': 'system', 'content': \"你是一名出色的汉语言专家，下面是一个文本生成任务，这对我的职业生涯很重要，请你认真的完成这个任务。\"})\n",
    "    messages.append({'role': 'system', 'content': \"你只需要完成这个文本生成任务，不需要输出其他的内容。\"})\n",
    "    messages.append({'role': 'system', 'content': \"请为这个由词语组成的句子添加必要的成分和合适的形容词、副词、语气词等形成新的意思相近的句子。\"})\n",
    "    messages.append({'role': 'user', 'content': label})\n",
    "\n",
    "    response = client.chat.completions.create(\n",
    "        model=MODEL,\n",
    "        messages=messages,\n",
    "        temperature=0.5,\n",
    "    )\n",
    "\n",
    "    sentence = response.choices[0].message.content\n",
    "    return label, sentence\n",
    "\n",
    "# 创建一个线程池  \n",
    "with concurrent.futures.ThreadPoolExecutor(max_workers = 160) as executor:  # max_workers表示并发数\n",
    "    pbar = tqdm(total=len(labels))\n",
    "\n",
    "    # 提交任务到线程池，并获取Future对象列表\n",
    "    futures = {executor.submit(process_label, label): label for label in labels}\n",
    "\n",
    "    # 遍历Future对象列表，获取结果  \n",
    "    for future in concurrent.futures.as_completed(futures):\n",
    "        label = futures[future]\n",
    "        try:\n",
    "            processed_label, sentence = future.result()\n",
    "            out_labels.append(processed_label)\n",
    "            out_sentences.append(sentence)\n",
    "            pbar.update(1)\n",
    "        except Exception as exc:\n",
    "            print(f'Generated an exception: {exc}')\n",
    "\n",
    "    pbar.close()"
   ]
  },
  {
   "cell_type": "code",
   "execution_count": 10,
   "id": "3e6250c4-d4f4-4799-bd67-29bd4c5d01d5",
   "metadata": {},
   "outputs": [
    {
     "data": {
      "text/plain": [
       "[' 星期一 波兰 总统 浏览 房屋',\n",
       " ' 星期三 白俄罗斯 总统 接吻 我们',\n",
       " ' 星期二 非洲 男孩 帮助 我',\n",
       " ' 星期一 瑞士 幼儿 浏览 手语诗',\n",
       " ' 星期六 英国 堂兄弟姊妹 帮助 健康 你']"
      ]
     },
     "execution_count": 10,
     "metadata": {},
     "output_type": "execute_result"
    }
   ],
   "source": [
    "out_labels[:5]"
   ]
  },
  {
   "cell_type": "code",
   "execution_count": 11,
   "id": "ff07282d-ea82-416d-aba1-caaa3a611dd3",
   "metadata": {},
   "outputs": [
    {
     "data": {
      "text/plain": [
       "['星期一，波兰总统意外地浏览了房屋。',\n",
       " '星期三，白俄罗斯的总统热情地接吻了我们。',\n",
       " '昨天，一个善良的非洲男孩主动伸出援手帮助了我。',\n",
       " '星期一，瑞士的幼儿们在浏览手语诗时，兴致勃勃地参与其中。',\n",
       " '在英国的星期六，堂兄弟姊妹们热情地帮助你提升健康。']"
      ]
     },
     "execution_count": 11,
     "metadata": {},
     "output_type": "execute_result"
    }
   ],
   "source": [
    "out_sentences[:5]"
   ]
  },
  {
   "cell_type": "code",
   "execution_count": 12,
   "id": "d1f14b24-d3f1-425c-ac59-7b17e1c03ae2",
   "metadata": {},
   "outputs": [],
   "source": [
    "df_out = pd.DataFrame()\n",
    "df_out['label'] = out_labels\n",
    "df_out['sentence'] = out_sentences"
   ]
  },
  {
   "cell_type": "code",
   "execution_count": 13,
   "id": "83f84811-9496-4dd4-8ae4-2877727d006b",
   "metadata": {},
   "outputs": [
    {
     "data": {
      "text/html": [
       "<div>\n",
       "<style scoped>\n",
       "    .dataframe tbody tr th:only-of-type {\n",
       "        vertical-align: middle;\n",
       "    }\n",
       "\n",
       "    .dataframe tbody tr th {\n",
       "        vertical-align: top;\n",
       "    }\n",
       "\n",
       "    .dataframe thead th {\n",
       "        text-align: right;\n",
       "    }\n",
       "</style>\n",
       "<table border=\"1\" class=\"dataframe\">\n",
       "  <thead>\n",
       "    <tr style=\"text-align: right;\">\n",
       "      <th></th>\n",
       "      <th>label</th>\n",
       "      <th>sentence</th>\n",
       "    </tr>\n",
       "  </thead>\n",
       "  <tbody>\n",
       "    <tr>\n",
       "      <th>0</th>\n",
       "      <td>星期一 波兰 总统 浏览 房屋</td>\n",
       "      <td>星期一，波兰总统意外地浏览了房屋。</td>\n",
       "    </tr>\n",
       "    <tr>\n",
       "      <th>1</th>\n",
       "      <td>星期三 白俄罗斯 总统 接吻 我们</td>\n",
       "      <td>星期三，白俄罗斯的总统热情地接吻了我们。</td>\n",
       "    </tr>\n",
       "    <tr>\n",
       "      <th>2</th>\n",
       "      <td>星期二 非洲 男孩 帮助 我</td>\n",
       "      <td>昨天，一个善良的非洲男孩主动伸出援手帮助了我。</td>\n",
       "    </tr>\n",
       "    <tr>\n",
       "      <th>3</th>\n",
       "      <td>星期一 瑞士 幼儿 浏览 手语诗</td>\n",
       "      <td>星期一，瑞士的幼儿们在浏览手语诗时，兴致勃勃地参与其中。</td>\n",
       "    </tr>\n",
       "    <tr>\n",
       "      <th>4</th>\n",
       "      <td>星期六 英国 堂兄弟姊妹 帮助 健康 你</td>\n",
       "      <td>在英国的星期六，堂兄弟姊妹们热情地帮助你提升健康。</td>\n",
       "    </tr>\n",
       "  </tbody>\n",
       "</table>\n",
       "</div>"
      ],
      "text/plain": [
       "                   label                      sentence\n",
       "0        星期一 波兰 总统 浏览 房屋             星期一，波兰总统意外地浏览了房屋。\n",
       "1      星期三 白俄罗斯 总统 接吻 我们          星期三，白俄罗斯的总统热情地接吻了我们。\n",
       "2         星期二 非洲 男孩 帮助 我       昨天，一个善良的非洲男孩主动伸出援手帮助了我。\n",
       "3       星期一 瑞士 幼儿 浏览 手语诗  星期一，瑞士的幼儿们在浏览手语诗时，兴致勃勃地参与其中。\n",
       "4   星期六 英国 堂兄弟姊妹 帮助 健康 你     在英国的星期六，堂兄弟姊妹们热情地帮助你提升健康。"
      ]
     },
     "execution_count": 13,
     "metadata": {},
     "output_type": "execute_result"
    }
   ],
   "source": [
    "df_out.head(5)"
   ]
  },
  {
   "cell_type": "code",
   "execution_count": 14,
   "id": "67b2155f-76d9-4147-89cf-c21cba974a6f",
   "metadata": {},
   "outputs": [],
   "source": [
    "df_out.to_csv(f\"{data_path}data{exec_id}.csv\", index = False)"
   ]
  },
  {
   "cell_type": "code",
   "execution_count": null,
   "id": "862625fa-f49e-480d-a13e-bc78aac6398a",
   "metadata": {},
   "outputs": [],
   "source": []
  }
 ],
 "metadata": {
  "kernelspec": {
   "display_name": "Python 3 (ipykernel)",
   "language": "python",
   "name": "python3"
  },
  "language_info": {
   "codemirror_mode": {
    "name": "ipython",
    "version": 3
   },
   "file_extension": ".py",
   "mimetype": "text/x-python",
   "name": "python",
   "nbconvert_exporter": "python",
   "pygments_lexer": "ipython3",
   "version": "3.12.2"
  }
 },
 "nbformat": 4,
 "nbformat_minor": 5
}
