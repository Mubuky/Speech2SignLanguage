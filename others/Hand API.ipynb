{
 "cells": [
  {
   "cell_type": "code",
   "execution_count": 1,
   "id": "762a44f5",
   "metadata": {},
   "outputs": [],
   "source": [
    "import json\n",
    "import pandas as pd\n",
    "\n",
    "from tqdm.notebook import tqdm"
   ]
  },
  {
   "cell_type": "code",
   "execution_count": 2,
   "id": "310f6c1d",
   "metadata": {},
   "outputs": [],
   "source": [
    "df = pd.read_json(\"./input.json\")"
   ]
  },
  {
   "cell_type": "code",
   "execution_count": 3,
   "id": "eec20d31",
   "metadata": {},
   "outputs": [
    {
     "data": {
      "text/plain": [
       "array(['一些', '一击', '一团气', ..., '鱼骨', '麻烦', '鼓掌欢迎'], dtype=object)"
      ]
     },
     "execution_count": 3,
     "metadata": {},
     "output_type": "execute_result"
    }
   ],
   "source": [
    "title_column = df['title']\n",
    "title_column = title_column.unique()\n",
    "title_column"
   ]
  },
  {
   "cell_type": "code",
   "execution_count": 4,
   "id": "ce8c1eeb",
   "metadata": {},
   "outputs": [
    {
     "name": "stdout",
     "output_type": "stream",
     "text": [
      "Requirement already satisfied: openai in c:\\users\\mubuky\\anaconda3\\lib\\site-packages (1.12.0)\n",
      "Requirement already satisfied: anyio<5,>=3.5.0 in c:\\users\\mubuky\\anaconda3\\lib\\site-packages (from openai) (3.5.0)\n",
      "Requirement already satisfied: distro<2,>=1.7.0 in c:\\users\\mubuky\\anaconda3\\lib\\site-packages (from openai) (1.9.0)\n",
      "Requirement already satisfied: httpx<1,>=0.23.0 in c:\\users\\mubuky\\anaconda3\\lib\\site-packages (from openai) (0.26.0)\n",
      "Requirement already satisfied: pydantic<3,>=1.9.0 in c:\\users\\mubuky\\anaconda3\\lib\\site-packages (from openai) (1.10.8)\n",
      "Requirement already satisfied: sniffio in c:\\users\\mubuky\\anaconda3\\lib\\site-packages (from openai) (1.2.0)\n",
      "Requirement already satisfied: tqdm>4 in c:\\users\\mubuky\\anaconda3\\lib\\site-packages (from openai) (4.65.0)\n",
      "Requirement already satisfied: typing-extensions<5,>=4.7 in c:\\users\\mubuky\\anaconda3\\lib\\site-packages (from openai) (4.7.1)\n",
      "Requirement already satisfied: idna>=2.8 in c:\\users\\mubuky\\anaconda3\\lib\\site-packages (from anyio<5,>=3.5.0->openai) (3.4)\n",
      "Requirement already satisfied: certifi in c:\\users\\mubuky\\anaconda3\\lib\\site-packages (from httpx<1,>=0.23.0->openai) (2023.11.17)\n",
      "Requirement already satisfied: httpcore==1.* in c:\\users\\mubuky\\anaconda3\\lib\\site-packages (from httpx<1,>=0.23.0->openai) (1.0.3)\n",
      "Requirement already satisfied: h11<0.15,>=0.13 in c:\\users\\mubuky\\anaconda3\\lib\\site-packages (from httpcore==1.*->httpx<1,>=0.23.0->openai) (0.14.0)\n",
      "Requirement already satisfied: colorama in c:\\users\\mubuky\\anaconda3\\lib\\site-packages (from tqdm>4->openai) (0.4.6)\n",
      "Note: you may need to restart the kernel to use updated packages.\n"
     ]
    }
   ],
   "source": [
    "%pip install --upgrade openai"
   ]
  },
  {
   "cell_type": "code",
   "execution_count": 5,
   "id": "d41b8e71",
   "metadata": {},
   "outputs": [],
   "source": [
    "from openai import OpenAI\n",
    "import os\n",
    "\n",
    "client = OpenAI(\n",
    "    api_key=os.environ.get(\"OPENAI_API_KEY\", \"sk-WajeURWkrY0fRCdq7fEe65D0146347939f330714A8E0D452\"),\n",
    "    base_url='https://api.open-proxy.cn/v1',\n",
    ")"
   ]
  },
  {
   "cell_type": "code",
   "execution_count": 6,
   "id": "6fd1b7d2",
   "metadata": {},
   "outputs": [
    {
     "data": {
      "application/vnd.jupyter.widget-view+json": {
       "model_id": "cac020472a5c4110a80c3d76495d5369",
       "version_major": 2,
       "version_minor": 0
      },
      "text/plain": [
       "  0%|          | 0/2331 [00:00<?, ?it/s]"
      ]
     },
     "metadata": {},
     "output_type": "display_data"
    }
   ],
   "source": [
    "MODEL = \"gpt-3.5-turbo\"\n",
    "\n",
    "output_file = \"./output.json\"\n",
    "\n",
    "with open(output_file, 'w') as fp:\n",
    "    fp.write(\"[\")\n",
    "    \n",
    "    pbar = tqdm(title_column)\n",
    "    \n",
    "    flag = 0\n",
    "    \n",
    "    for name in title_column:\n",
    "        pbar.set_description('Processing '+ name)\n",
    "        \n",
    "        if flag == 1:\n",
    "            fp.write(\",\")\n",
    "        flag = 1\n",
    "        \n",
    "        messages=[]\n",
    "        messages.append({'role': 'system', 'content': \"你是一名出色的汉语言专家，请你对下面给出的词汇提供5个不同的同义词或含义相近的词汇。\"})\n",
    "        messages.append({'role': 'system', 'content': \"输入为一个中文词汇。\"})\n",
    "        messages.append({'role': 'system', 'content': \"你只能按照所述的格式（JSON对象）进行回复，不要输出多余的换行符和其他内容。它的每个同义词或含义相近的词汇占1行，共5行，注意除最后一行外每行结尾都有一个逗号，每行的格式为：{\\\"data\\\":同义词或含义相近的词汇, \\\"lable\\\":输入的词汇},\"})\n",
    "        messages.append({'role': 'user', 'content': name})\n",
    "\n",
    "        response = client.chat.completions.create(\n",
    "            model = MODEL,\n",
    "            messages = messages,\n",
    "            temperature = 0,\n",
    "        )\n",
    "\n",
    "        #print(json.dumps(json.loads(response.model_dump_json()), indent=4))\n",
    "\n",
    "        result = response.choices[0].message.content\n",
    "        #print(result)\n",
    "        fp.write(\"\\n\")\n",
    "        fp.write(result)\n",
    "        \n",
    "        pbar.update(1)\n",
    "        \n",
    "    fp.write(\"\\n]\")"
   ]
  }
 ],
 "metadata": {
  "kernelspec": {
   "display_name": "Python 3 (ipykernel)",
   "language": "python",
   "name": "python3"
  },
  "language_info": {
   "codemirror_mode": {
    "name": "ipython",
    "version": 3
   },
   "file_extension": ".py",
   "mimetype": "text/x-python",
   "name": "python",
   "nbconvert_exporter": "python",
   "pygments_lexer": "ipython3",
   "version": "3.11.5"
  }
 },
 "nbformat": 4,
 "nbformat_minor": 5
}
